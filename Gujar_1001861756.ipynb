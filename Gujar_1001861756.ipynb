{
 "cells": [
  {
   "cell_type": "markdown",
   "source": [
    "# Question 1(10 points) :\n",
    "\n",
    "<B>Implement a program that requests three strings from the user. Your program should concatenate the first two strings (string1 + string2) and compare the concatenated string with the third string. If they are equal, your program should print “The two strings are equal”, otherwise, the program should concatenate the two strings in the reverse order (string2 + string1) and compare it with the third string and print “The two strings are equal”. If this second test also fails, your program should print “The two strings are not equal”. </B>.\n",
    "<br>\n",
    "\n",
    "#### -> Enter string 1, string 2 & string 3.\n",
    "\n",
    "#### -> Concatenate (s1 + s2) & checking if (s1 + s2) == s3. If True, print the two strings are equal.\n",
    "\n",
    "#### -> If (s1 + s2) != s3, Concatenate (s2 + s1) & check if (s2 + s1) == s3. If True, print the two strings are equal.\n",
    "\n",
    "#### -> If both the above conditions fail, print the two strings are not equal."
   ],
   "metadata": {}
  },
  {
   "cell_type": "code",
   "execution_count": 30,
   "source": [
    "s1 = input(\"Enter string 1: \") # string 1\r\n",
    "s2 = input(\"Enter string 2: \") # string 2\r\n",
    "s3 = input(\"Enter string 3: \") # string 3\r\n",
    "\r\n",
    "concat1 = s1 + s2 # concatenate s1 and s2\r\n",
    "concat2 = s2 + s1 # concatenate s2 and s1\r\n",
    "\r\n",
    "if (concat1 == s3): # checking if first concatenation is same as string 3\r\n",
    "    print(\"The two strings are equal.\")\r\n",
    "    \r\n",
    "elif (concat2 == s3): # checking if second concatenation is same as string 3\r\n",
    "    print(\"The two strings are equal\")\r\n",
    "    \r\n",
    "else: \r\n",
    "    print(\"The two strings are not equal\") # strings are not equal"
   ],
   "outputs": [
    {
     "output_type": "stream",
     "name": "stdout",
     "text": [
      "Enter string 1: 12\n",
      "Enter string 2: bye!\n",
      "Enter string 3: Goodbye!\n",
      "The two strings are not equal\n"
     ]
    }
   ],
   "metadata": {}
  },
  {
   "cell_type": "markdown",
   "source": [
    "# Question 2(10 points) :\n",
    "\n",
    "<B>Write a Python program that reads in 3 integers or 4 integers (user first determines 3 or 4 integers) and displays the following: \n",
    "    <br>\n",
    "    a.   the average of the numbers (two decimal places suggested) \n",
    "    <br>\n",
    "    b.   the maximum of the numbers \n",
    "    <br>\n",
    "    c.   the minimum of the numbers \n",
    "    <br>\n",
    "    d.   the median of the numbers. Note that if there was 2 numbers that qualify for the median, you will calculate and display the mean of the 2 numbers</B>\n",
    "<br>\n",
    "\n",
    "#### -> Ask user to enter set of 3 or 4 integers.\n",
    "\n",
    "#### -> If user enters 3, Return the Average, Maximum, Minimum & Median of the entered 3 numbers.\n",
    "\n",
    "#### -> If user enters 4, Return the Average, Maximum, Minimum & Median of the entered 4 numbers."
   ],
   "metadata": {}
  },
  {
   "cell_type": "code",
   "execution_count": 1,
   "source": [
    "import math\r\n",
    "\r\n",
    "while True:\r\n",
    "        size = int(input(\"Enter set of 3 or 4 integers: \")) # asking user to determine 3 or 4 integers\r\n",
    "        if (size == 3): # if user enters 3\r\n",
    "            n1 = int(input(\"Enter first number: \")) # first\r\n",
    "            n2 = int(input(\"Enter second number: \")) # second\r\n",
    "            n3 = int(input(\"Enter third number: \")) # third\r\n",
    "\r\n",
    "            avg = (n1+n2+n3)/size # average\r\n",
    "            maxno = max(n1, n2, n3) # maximum\r\n",
    "            minno = min(n1, n2, n3) # minimum\r\n",
    "            list = [n1, n2, n3] # list\r\n",
    "            list.sort() # sorting\r\n",
    "            median = list[1] # median\r\n",
    "\r\n",
    "            print('The average of ',n1,',',n2,'and',n3,'is:', avg)\r\n",
    "            print(\"The maximum of the three numbers is: \", maxno)\r\n",
    "            print(\"The minimum of the three numbers is: \", minno)\r\n",
    "            print(\"The median of the three numbers is: \", median)\r\n",
    "            break\r\n",
    "\r\n",
    "        elif (size == 4): # if user enters 4\r\n",
    "            n1 = int(input(\"Enter first number: \")) # first\r\n",
    "            n2 = int(input(\"Enter second number: \")) # second\r\n",
    "            n3 = int(input(\"Enter third number: \")) # third\r\n",
    "            n4 = int(input(\"Enter fourth number: \")) # fouth\r\n",
    "\r\n",
    "            avg = (n1+n2+n3+n4)/size # average\r\n",
    "            maxno = max(n1, n2, n3, n4) # maximum\r\n",
    "            minno = min(n1, n2, n3, n4) # minimum\r\n",
    "            list = [n1, n2, n3, n4] # list\r\n",
    "            list.sort() # sorting\r\n",
    "            median = (list[1]+list[2])/2 # median\r\n",
    "\r\n",
    "            print('The average of ',n1,',',n2,',',n3,'and',n4,'is:', avg)\r\n",
    "            print(\"The maximum of the four numbers is: \", maxno)\r\n",
    "            print(\"The minimum of the four numbers is: \", minno)\r\n",
    "            print(\"The median of the four numbers is: \", median)\r\n",
    "            break\r\n",
    "\r\n",
    "        else:\r\n",
    "            print(\"Incorrect! Please enter 3 or 4.\") # if value other than 3 or 4 is entered\r\n",
    "            continue      "
   ],
   "outputs": [
    {
     "output_type": "stream",
     "name": "stdout",
     "text": [
      "Enter set of 3 or 4 integers: 4\n",
      "Enter first number: 7\n",
      "Enter second number: 10\n",
      "Enter third number: 1\n",
      "Enter fourth number: 6\n",
      "The average of  7 , 10 , 1 and 6 is: 6.0\n",
      "The maximum of the four numbers is:  10\n",
      "The minimum of the four numbers is:  1\n",
      "The median of the four numbers is:  6.5\n"
     ]
    }
   ],
   "metadata": {}
  },
  {
   "cell_type": "markdown",
   "source": [
    "# Question 3(10 points):\n",
    "\n",
    "<B>An integer, greater than 1, that is only divisible by 1 and itself is called a prime number. All other numbers greater than 1 are called composite numbers. The integers 0 and 1 are neither prime nor composite. Write a python program that requests a positive integer from the user, determines if it is a prime, composite or neither prime or composite and prints the message. You can choose to use iterative loops to repeatedly run this script or have the user run the script for every input. Please specify instructions to run the code in markdown language above the code cell.</B>\n",
    "<br>\n",
    "\n",
    "#### -> Ask user to enter Number of inputs & Enter the number accordingly.\n",
    "\n",
    "#### -> Check if the user entered a positive integer, If No,Show an error notifying that the user has not entered a positive integer.\n",
    "\n",
    "#### -> If the user entered 0 or 1, print that it is neither a prime nor composite number.\n",
    "\n",
    "#### -> If the user entered a positive integer except 0 or 1, check if its a prime or composite number & print the result."
   ],
   "metadata": {}
  },
  {
   "cell_type": "code",
   "execution_count": 39,
   "source": [
    "loop = int(input(\"Number of Inputs: \")) # number of loop\r\n",
    "\r\n",
    "for i in range(0,loop):\r\n",
    "    number = input(\"Enter positive integer: \") # positive integer input\r\n",
    "    \r\n",
    "    try:\r\n",
    "        val = int(number)\r\n",
    "        if val < 0:\r\n",
    "            print(\"Error: You did not enter a positive integer\")\r\n",
    "        if (val==0 or val==1): # for 0 and 1\r\n",
    "            print(\"It is neither prime nor composite\")\r\n",
    "        elif (val == 2):\r\n",
    "            print(\"It is a prime\")\r\n",
    "        else:\r\n",
    "            val = int(val)\r\n",
    "            for i in range(2, val): # loop to check for prime numbers\r\n",
    "                if ((val%i == 0) is True): # reminder zero means the number is divisible, hence composite.\r\n",
    "                    print(\"It is a composite\")\r\n",
    "                    break\r\n",
    "                else:\r\n",
    "                    print(\"It is a prime\")\r\n",
    "                    break\r\n",
    "\r\n",
    "    except ValueError:\r\n",
    "        print(\"Error: You did not enter a positive integer\")"
   ],
   "outputs": [
    {
     "output_type": "stream",
     "name": "stdout",
     "text": [
      "Number of Inputs: 6\n",
      "Enter positive integer: 3\n",
      "It is a prime\n",
      "Enter positive integer: 4\n",
      "It is a composite\n",
      "Enter positive integer: 1\n",
      "It is neither prime nor composite\n",
      "Enter positive integer: -5\n",
      "Error: You did not enter a positive integer\n",
      "Enter positive integer: -2.5\n",
      "Error: You did not enter a positive integer\n",
      "Enter positive integer: Hi\n",
      "Error: You did not enter a positive integer\n"
     ]
    }
   ],
   "metadata": {
    "scrolled": true
   }
  },
  {
   "cell_type": "markdown",
   "source": [
    "# Question 4(10 points):\r\n",
    "\r\n",
    "<B>Implement a Python function SimpleInterest() that takes in 3 arguments:<br> \r\n",
    "    a.   A principle amount (float) <br>\r\n",
    "    b.   Interest Rate (0 to 100 as a float) <br>\r\n",
    "    c.   Year (integer) <br>\r\n",
    "    Your function should return the interest amount. <br>\r\n",
    "    The formula for a simple interest is (Principle * InterestRate * Years)/100 <br>\r\n",
    "    Write a main program that requests the principle amount, Interest rate and year from the user. Also in the main program you should call your defined function SimpleInterest() that takes these 3 arguments and display the results. <br>\r\n",
    "    Write your function definition in one cell and the function calling main program below it or in a different cell in Jupyter Notebook. I will be testing this program by modifying your program that calls this function. </B>\r\n",
    "<br>\r\n",
    "\r\n",
    "#### -> SimpleInterest() uses the formula of simple interest i.e ((Principle * InterestRate * Years)/100) & return i as result.\r\n",
    "\r\n",
    "#### -> Ask user to Enter Principle Amount, Interest Rate & Years.\r\n",
    "\r\n",
    "#### -> Check and make sure that user has entered the correct inputs, if not then prompt the user a wrong data-type error.\r\n",
    "\r\n",
    "#### -> main() functions checks for the validity of input and displays the result returned by SimpleInterest()."
   ],
   "metadata": {}
  },
  {
   "cell_type": "code",
   "execution_count": 3,
   "source": [
    "import math\r\n",
    "\r\n",
    "def SimpleInterest(x,y,z):\r\n",
    "    i = ((x*y*z)/100) # formula for simple interest\r\n",
    "    return i\r\n",
    "\r\n",
    "if __name__ == \"__main__\":\r\n",
    "    try:\r\n",
    "        x = float(input(\"Enter the Principle Amount(float): \")) # principle amount input\r\n",
    "        y = float(input(\"Enter Interest Rate(float): \")) # interest rate input\r\n",
    "        z = int(input(\"Enter Years(int): \")) # years input\r\n",
    "\r\n",
    "        result = SimpleInterest(x,y,z) # substituting the inputs into the simple interest formula\r\n",
    "        print(\"Simple Interest: \", result)\r\n",
    "\r\n",
    "    except ValueError:\r\n",
    "        print(\"Error: You entered a wrong data-type!\")"
   ],
   "outputs": [
    {
     "output_type": "stream",
     "name": "stdout",
     "text": [
      "Enter the Principle Amount(float): 100\n",
      "Enter Interest Rate(float): 10\n",
      "Enter Years(int): 2000\n",
      "Simple Interest:  20000.0\n"
     ]
    }
   ],
   "metadata": {}
  },
  {
   "cell_type": "markdown",
   "source": [
    "# Question 5(10 points):\n",
    "\n",
    "<B>Write a program that takes as input two opposite corners of a rectangle: (x1,y1) and (x2,y2) – float or integer only. Finally, the user is prompted for the coordinates of a third point (x,y). The program should print Boolean value True or False based on whether the point (x,y) lies within the rectangle. At the end of each run, the users should be prompted to ask whether they want to continue.<br>\n",
    "Note that the rectangle could fall anywhere in the 2X2 plane of real numbers. </B>\n",
    "<br>\n",
    "\n",
    "#### -> Ask user for opposite corners of a rectangle (x1, y1) and (x2, y2).\n",
    "\n",
    "#### -> Ask user for the cordinates of the third point (x, y).\n",
    "\n",
    "#### -> Check for the validity of all the cordinates. For an invalid cordinate, set the cordinate to 0 and show a bookmark error.\n",
    "\n",
    "#### -> If x lies on or between x1 and x2 and y lies on or between y1 and y2, x and y should satisfy the condition.\n",
    "\n",
    "#### -> Check if x and y satisfy the condition. If yes, return True or else return False.\n",
    "\n",
    "#### -> Ask the user if they want to continue? (Y/y = YES, N/n = NO)."
   ],
   "metadata": {}
  },
  {
   "cell_type": "code",
   "execution_count": 1,
   "source": [
    "import math\n",
    "\n",
    "def Rectangle():\n",
    "    while True:\n",
    "        try:\n",
    "            x1 = float(input(\"Enter x1: \")) # x1\n",
    "            break\n",
    "        except ValueError:\n",
    "            print(\"Error! Bookmark not defined.\")\n",
    "            x1 = 0 # set x1 = 0\n",
    "            break\n",
    "\n",
    "    while True:\n",
    "        try:\n",
    "            y1 = float(input(\"Enter y1: \")) # y1\n",
    "            break\n",
    "        except ValueError:\n",
    "            print(\"Error! Bookmark not defined.\")\n",
    "            y1 = 0 # set y1 = 0\n",
    "            break\n",
    "\n",
    "    while True:\n",
    "        try:\n",
    "            x2 = float(input(\"Enter x2: \")) # x2\n",
    "            break\n",
    "        except ValueError:\n",
    "            print(\"Error! Bookmark not defined.\")\n",
    "            x2 = 0 # set x2 = 0 \n",
    "            break\n",
    "\n",
    "    while True:\n",
    "        try:\n",
    "            y2 = float(input(\"Enter y2: \")) # y2\n",
    "            break\n",
    "        except ValueError:\n",
    "            print(\"Error! Bookmark not defined.\")\n",
    "            y2 = 0 # set y2 = 0\n",
    "            break\n",
    "\n",
    "    while True:\n",
    "        try:\n",
    "            x = float(input(\"Enter x: \")) ## x\n",
    "            break\n",
    "        except ValueError:\n",
    "            print(\"Error! Bookmark not defined.\")\n",
    "            x = 0 # set x = 0\n",
    "            break\n",
    "\n",
    "    while True: \n",
    "        try:\n",
    "            y = float(input(\"Enter y: \")) # y\n",
    "            break\n",
    "        except ValueError:\n",
    "            print(\"Error! Bookmark not defined.\")\n",
    "            y = 0 # set y = 0\n",
    "            break\n",
    "\n",
    "    if (x >= x1 and x <= x2 and y >= y1 and y <= y2): # checking if x & y are smaller or equal to x1,x2 & y1,y2 respectively\n",
    "        print(\"True\")\n",
    "        Decision()\n",
    "    else:\n",
    "        print(\"False\")\n",
    "        Decision()\n",
    "\n",
    "def Decision():\n",
    "    decision = input(\"Do you want to continue: \") # continue?\n",
    "    if(decision == \"Y\" or decision == \"y\" ):\n",
    "        Rectangle()\n",
    "\n",
    "    elif(decision == \"N\" or decision == \"n\"):\n",
    "        print(\"Goodbye!\")\n",
    "\n",
    "Rectangle()"
   ],
   "outputs": [
    {
     "output_type": "stream",
     "name": "stdout",
     "text": [
      "Enter x1: \n",
      "Error! Bookmark not defined.\n",
      "Enter y1: \n",
      "Error! Bookmark not defined.\n",
      "Enter x2: 10\n",
      "Enter y2: 6\n",
      "Enter x: \n",
      "Error! Bookmark not defined.\n",
      "Enter y: \n",
      "Error! Bookmark not defined.\n",
      "True\n",
      "Do you want to continue: Y\n",
      "Enter x1: 1\n",
      "Enter y1: 3\n",
      "Enter x2: 10\n",
      "Enter y2: 6\n",
      "Enter x: 4\n",
      "Enter y: 2\n",
      "False\n",
      "Do you want to continue: N\n",
      "Goodbye!\n"
     ]
    }
   ],
   "metadata": {}
  }
 ],
 "metadata": {
  "interpreter": {
   "hash": "63fd5069d213b44bf678585dea6b12cceca9941eaf7f819626cde1f2670de90d"
  },
  "kernelspec": {
   "display_name": "Python 3",
   "language": "python",
   "name": "python3"
  },
  "language_info": {
   "codemirror_mode": {
    "name": "ipython",
    "version": 3
   },
   "file_extension": ".py",
   "mimetype": "text/x-python",
   "name": "python",
   "nbconvert_exporter": "python",
   "pygments_lexer": "ipython3",
   "version": "3.8.8"
  }
 },
 "nbformat": 4,
 "nbformat_minor": 4
}